version https://git-lfs.github.com/spec/v1
oid sha256:c7c7941bd2343d1cfa7555478caf1abef8197ea408523de77de43cf68c2565ad
size 22969

version https://git-lfs.github.com/spec/v1
oid sha256:f37c5b1e9c920f311ac1b11a40b4ad5f18a88c295638b7282d5568d80d688498
size 620489

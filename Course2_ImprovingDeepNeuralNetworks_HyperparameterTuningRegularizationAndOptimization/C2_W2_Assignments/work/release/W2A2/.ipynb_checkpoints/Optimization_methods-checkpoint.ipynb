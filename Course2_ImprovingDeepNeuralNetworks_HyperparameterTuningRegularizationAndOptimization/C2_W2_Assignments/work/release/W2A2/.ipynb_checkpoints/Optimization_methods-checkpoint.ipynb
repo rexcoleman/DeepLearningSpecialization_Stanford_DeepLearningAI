version https://git-lfs.github.com/spec/v1
oid sha256:234eb0ec8d4225b2055e0c1d4d08742a0206b20591bb7e118e750e0d873ed83b
size 77749

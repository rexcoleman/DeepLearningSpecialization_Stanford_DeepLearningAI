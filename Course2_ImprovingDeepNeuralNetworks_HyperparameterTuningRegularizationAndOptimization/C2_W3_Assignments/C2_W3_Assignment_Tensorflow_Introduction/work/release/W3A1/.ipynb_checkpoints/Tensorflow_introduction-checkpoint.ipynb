version https://git-lfs.github.com/spec/v1
oid sha256:e5bf9d71943234951e3835fa0c362eb4c89a892aec8b43a6ccb3a289b68ce8ae
size 49039

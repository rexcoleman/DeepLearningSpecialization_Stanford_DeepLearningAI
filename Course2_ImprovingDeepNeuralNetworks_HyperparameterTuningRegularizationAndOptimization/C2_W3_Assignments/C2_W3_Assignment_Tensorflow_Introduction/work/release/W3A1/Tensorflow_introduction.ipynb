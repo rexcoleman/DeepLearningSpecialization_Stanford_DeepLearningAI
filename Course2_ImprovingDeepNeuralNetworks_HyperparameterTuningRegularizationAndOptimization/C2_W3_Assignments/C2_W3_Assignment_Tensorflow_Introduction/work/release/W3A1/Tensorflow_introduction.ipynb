version https://git-lfs.github.com/spec/v1
oid sha256:c5074d3881cdefa9facf67020e926eaa84014d00d0cfabbf9803e052f4b9cf96
size 443115
